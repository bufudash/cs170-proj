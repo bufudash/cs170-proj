{
 "cells": [
  {
   "cell_type": "markdown",
   "metadata": {},
   "source": [
    "# CS170 Project Notebook"
   ]
  },
  {
   "cell_type": "markdown",
   "metadata": {},
   "source": [
    "### Imports"
   ]
  },
  {
   "cell_type": "code",
   "execution_count": 1,
   "metadata": {},
   "outputs": [],
   "source": [
    "import networkx as nx\n",
    "from parse import read_input_file, write_input_file, write_output_file, read_output_file\n",
    "from utils import is_valid_network, average_pairwise_distance, average_pairwise_distance_fast\n",
    "import sys\n",
    "\n",
    "import matplotlib.pyplot as plt\n",
    "%matplotlib inline\n",
    "import random\n",
    "\n",
    "import solver\n",
    "from solver import EmployedBee"
   ]
  },
  {
   "cell_type": "markdown",
   "metadata": {},
   "source": []
  },
  {
   "cell_type": "markdown",
   "metadata": {},
   "source": [
    "## Generate Inputs"
   ]
  },
  {
   "cell_type": "code",
   "execution_count": 2,
   "metadata": {},
   "outputs": [],
   "source": [
    "def randomNGraph(n: int):\n",
    "    temp = nx.generators.random_graphs.erdos_renyi_graph(n, 5/n)\n",
    "    while not nx.is_connected(temp):\n",
    "        temp = nx.generators.random_graphs.erdos_renyi_graph(n, 5/n)\n",
    "\n",
    "    for (u, v) in temp.edges():\n",
    "        temp.edges[u, v]['weight'] = round(random.uniform(1/n, n), 2)\n",
    "    return temp\n",
    ""
   ]
  },
  {
   "cell_type": "markdown",
   "metadata": {},
   "source": [
    "## Create input files"
   ]
  },
  {
   "cell_type": "code",
   "execution_count": 3,
   "metadata": {},
   "outputs": [],
   "source": [
    "G25 = randomNGraph(25)\n",
    "G50 = randomNGraph(50)\n",
    "G100 = randomNGraph(100)"
   ]
  },
  {
   "cell_type": "code",
   "execution_count": 4,
   "metadata": {},
   "outputs": [],
   "source": [
    "write_input_file(G25, \"./25.in\")\n",
    "write_input_file(G50, \"./50.in\")\n",
    "write_input_file(G100, \"./100.in\")"
   ]
  },
  {
   "cell_type": "markdown",
   "metadata": {},
   "source": [
    "## Algorithm"
   ]
  },
  {
   "cell_type": "markdown",
   "metadata": {},
   "source": [
    "### Artificial Bee Colony Algorithms\n",
    "\n",
    "- Initialisation\n",
    "   - Each scout bee generates a random connected dominating tree and becomes employed bee. \n",
    "\n",
    "- Iteration\n",
    "   - Each employed bee calls `find_neighbor` to try to find a solution toward its local optimum. \n",
    "   - Each onlooker bee randomly chooses two employed bee and choose the bee whose solution has lower cost. The one chosen is called `find_neighbor` again.  \n",
    "   - If an employed bee solution is not improved over time (e.g. 10 times or so), fire the bee (let the bee find a new solution from scratch). \n",
    "\n",
    "- Final Decision\n",
    "   - Choose an employed bee with lower cost. "
   ]
  },
  {
   "cell_type": "code",
   "execution_count": 2,
   "metadata": {},
   "outputs": [],
   "source": [
    "def cost(T, G):\n",
    "    assert(is_valid_network(G, T))\n",
    "    if len(T) == 1:\n",
    "        return 0\n",
    "    return average_pairwise_distance_fast(T)"
   ]
  },
  {
   "cell_type": "markdown",
   "metadata": {},
   "source": [
    "#### Unit Tests: Test if `random_dominating_tree` (scout) is valid"
   ]
  },
  {
   "cell_type": "code",
   "execution_count": 8,
   "metadata": {},
   "outputs": [],
   "source": [
    "def testRandomDominatingTree(iterations: int, sub_iterations: int):\n",
    "    for i in range(iterations):\n",
    "        r = randomNGraph(100)\n",
    "        costs = []\n",
    "        for _ in range(sub_iterations):\n",
    "            rd = solver.randomDominatingTree(r)\n",
    "            assert(is_valid_network(r, rd))\n",
    "            costs.append(round(average_pairwise_distance_fast(rd), 2))\n",
    "        print(\"At iteration %d: Initial Costs: %s\" % (i, str(costs)))\n",
    "    print(\"TEST PASSED: All results are valid network. \")\n"
   ]
  },
  {
   "cell_type": "markdown",
   "metadata": {},
   "source": [
    "### Unit Tests: Test the ABC Algorithm and parameter"
   ]
  },
  {
   "cell_type": "code",
   "execution_count": 9,
   "metadata": {},
   "outputs": [],
   "source": [
    "def TestABC(test_iter: int, n_employed: int, n_onlooker: int, n_iter: int, fire_limit: int):\n",
    "    cost_ratio_mst:List[float] = []\n",
    "    cost_ratio_single:List[float] = []\n",
    "\n",
    "    for i in range(test_iter):\n",
    "        f = random.randint(1, 303)\n",
    "        print(\"TEST SUITE %d\" % f)\n",
    "        G = read_input_file(\"./inputs/large-%d.in\" % f)\n",
    "        # test ABC\n",
    "        print(\"Running ABC\")\n",
    "        T = solver.ABC(G, n_employed, n_onlooker, n_iter, fire_limit, log=True)\n",
    "        # test single intelligent observer\n",
    "        print(\"Running Single Observer\")\n",
    "        single_cost = []\n",
    "        for _ in range(n_employed):\n",
    "            bee = EmployedBee(G)\n",
    "            for _ in range(n_iter):\n",
    "                bee.work()\n",
    "                if len(bee.solution) == 1:\n",
    "                    break\n",
    "            single_cost.append(cost(bee.solution, G))\n",
    "        bee = EmployedBee(G)\n",
    "        # test naive MST\n",
    "        print(\"Running MST\")\n",
    "        mst = nx.minimum_spanning_tree(G)\n",
    "        \n",
    "        mst_cost, bee_cost, T_cost = cost(mst, G), min(single_cost), cost(T, G)\n",
    "        print(\"Cost of MST is %f\" % mst_cost)\n",
    "        print(\"Cost of single observer is %f\" % bee_cost)\n",
    "        print(\"Cost of ABC is %f\" % T_cost)\n",
    "\n",
    "        if (bee_cost == 0):\n",
    "            bee_cost = 1e-99\n",
    "        if (mst_cost == 0):\n",
    "            mst_cost = 1e-99\n",
    "        cost_ratio_mst.append(T_cost / mst_cost)\n",
    "        cost_ratio_single.append(T_cost / bee_cost)\n",
    "        print(\"============================\")\n",
    "\n",
    "    print(\"Average cost ratio to MST is %f\" % (sum(cost_ratio_mst) / len(cost_ratio_mst)))\n",
    "    print(\"Average cost ratio to Single observer is %f\" % (sum(cost_ratio_single) / len(cost_ratio_single)))"
   ]
  },
  {
   "cell_type": "code",
   "execution_count": 10,
   "metadata": {},
   "outputs": [
    {
     "output_type": "stream",
     "name": "stdout",
     "text": "TEST SUITE 178\nRunning ABC\nAt iteration 0, the best cost is 3.294384, 15 scouts are called\nAt iteration 100, the best cost is 2.027273, 15 scouts are called\nAt iteration 200, the best cost is 1.827778, 30 scouts are called\nAt iteration 300, the best cost is 1.827778, 45 scouts are called\nAt iteration 400, the best cost is 1.827778, 59 scouts are called\nAt iteration 500, the best cost is 1.827778, 63 scouts are called\nAt iteration 600, the best cost is 1.827778, 75 scouts are called\nAt iteration 700, the best cost is 1.827778, 90 scouts are called\nAt iteration 800, the best cost is 1.827778, 105 scouts are called\nAt iteration 900, the best cost is 1.827778, 116 scouts are called\nAt iteration 1000, the best cost is 1.827778, 124 scouts are called\nAt iteration 1100, the best cost is 1.827778, 135 scouts are called\nAt iteration 1200, the best cost is 1.800000, 149 scouts are called\nAt iteration 1300, the best cost is 1.790909, 163 scouts are called\nRunning Single Observer\nRunning MST\nCost of MST is 3.803333\nCost of single observer is 1.790909\nCost of ABC is 1.790909\n============================\nTEST SUITE 111\nRunning ABC\nAt iteration 0, the best cost is 109.752000, 15 scouts are called\nAt iteration 100, the best cost is 99.715000, 15 scouts are called\nAt iteration 200, the best cost is 99.715000, 30 scouts are called\nAt iteration 300, the best cost is 99.715000, 45 scouts are called\nAt iteration 400, the best cost is 99.715000, 60 scouts are called\nAt iteration 500, the best cost is 99.715000, 75 scouts are called\nAt iteration 600, the best cost is 99.715000, 90 scouts are called\nAt iteration 700, the best cost is 99.715000, 105 scouts are called\nAt iteration 800, the best cost is 99.715000, 120 scouts are called\nAt iteration 900, the best cost is 99.715000, 135 scouts are called\nAt iteration 1000, the best cost is 99.715000, 150 scouts are called\nAt iteration 1100, the best cost is 99.715000, 165 scouts are called\nAt iteration 1200, the best cost is 99.715000, 180 scouts are called\nAt iteration 1300, the best cost is 99.715000, 195 scouts are called\nRunning Single Observer\nRunning MST\nCost of MST is 123.196000\nCost of single observer is 99.715000\nCost of ABC is 99.715000\n============================\nTEST SUITE 69\nRunning ABC\nAt iteration 0, the best cost is 6.666667, 15 scouts are called\nFound a bee whose cost is zero! Program finished early at iteration 4. \nRunning Single Observer\nRunning MST\nCost of MST is 7.000000\nCost of single observer is 0.000000\nCost of ABC is 0.000000\n============================\nTEST SUITE 253\nRunning ABC\nAt iteration 0, the best cost is 113.010424, 15 scouts are called\nAt iteration 100, the best cost is 69.475127, 15 scouts are called\nAt iteration 200, the best cost is 69.475127, 30 scouts are called\nAt iteration 300, the best cost is 69.475127, 45 scouts are called\nAt iteration 400, the best cost is 69.475127, 57 scouts are called\nAt iteration 500, the best cost is 69.475127, 61 scouts are called\nAt iteration 600, the best cost is 69.475127, 75 scouts are called\nAt iteration 700, the best cost is 66.406227, 90 scouts are called\nAt iteration 800, the best cost is 66.406227, 104 scouts are called\nAt iteration 900, the best cost is 66.406227, 114 scouts are called\nAt iteration 1000, the best cost is 66.406227, 121 scouts are called\nAt iteration 1100, the best cost is 66.406227, 135 scouts are called\nAt iteration 1200, the best cost is 66.406227, 149 scouts are called\nAt iteration 1300, the best cost is 66.406227, 159 scouts are called\nRunning Single Observer\nRunning MST\nCost of MST is 129.065120\nCost of single observer is 72.658939\nCost of ABC is 66.406227\n============================\nTEST SUITE 152\nRunning ABC\nAt iteration 0, the best cost is 43.766419, 15 scouts are called\nAt iteration 100, the best cost is 43.242743, 15 scouts are called\nAt iteration 200, the best cost is 43.242743, 30 scouts are called\nAt iteration 300, the best cost is 43.242743, 45 scouts are called\nAt iteration 400, the best cost is 43.242743, 60 scouts are called\nAt iteration 500, the best cost is 43.242743, 75 scouts are called\nAt iteration 600, the best cost is 43.242743, 90 scouts are called\nAt iteration 700, the best cost is 43.242743, 105 scouts are called\nAt iteration 800, the best cost is 43.242743, 120 scouts are called\nAt iteration 900, the best cost is 43.242743, 135 scouts are called\nAt iteration 1000, the best cost is 43.242743, 150 scouts are called\nAt iteration 1100, the best cost is 43.242743, 165 scouts are called\nAt iteration 1200, the best cost is 43.242743, 180 scouts are called\nAt iteration 1300, the best cost is 43.242743, 195 scouts are called\nRunning Single Observer\nRunning MST\nCost of MST is 47.934213\nCost of single observer is 43.242743\nCost of ABC is 43.242743\n============================\nTEST SUITE 165\nRunning ABC\nAt iteration 0, the best cost is 30.456743, 15 scouts are called\nFound a bee whose cost is zero! Program finished early at iteration 21. \nRunning Single Observer\nRunning MST\nCost of MST is 29.237433\nCost of single observer is 0.000000\nCost of ABC is 0.000000\n============================\nTEST SUITE 178\nRunning ABC\nAt iteration 0, the best cost is 3.423333, 15 scouts are called\nAt iteration 100, the best cost is 1.800000, 15 scouts are called\nAt iteration 200, the best cost is 1.800000, 30 scouts are called\nAt iteration 300, the best cost is 1.800000, 45 scouts are called\nAt iteration 400, the best cost is 1.800000, 55 scouts are called\nAt iteration 500, the best cost is 1.790909, 62 scouts are called\nAt iteration 600, the best cost is 1.790909, 75 scouts are called\nAt iteration 700, the best cost is 1.790909, 89 scouts are called\nAt iteration 800, the best cost is 1.790909, 101 scouts are called\nAt iteration 900, the best cost is 1.790909, 111 scouts are called\nAt iteration 1000, the best cost is 1.790909, 120 scouts are called\nAt iteration 1100, the best cost is 1.790909, 134 scouts are called\nAt iteration 1200, the best cost is 1.790909, 148 scouts are called\nAt iteration 1300, the best cost is 1.790909, 160 scouts are called\nRunning Single Observer\nRunning MST\nCost of MST is 3.803333\nCost of single observer is 1.872727\nCost of ABC is 1.790909\n============================\nTEST SUITE 46\nRunning ABC\nAt iteration 0, the best cost is 1.096267, 15 scouts are called\nAt iteration 100, the best cost is 0.100000, 15 scouts are called\nAt iteration 200, the best cost is 0.100000, 30 scouts are called\nAt iteration 300, the best cost is 0.100000, 45 scouts are called\nAt iteration 400, the best cost is 0.100000, 48 scouts are called\nAt iteration 500, the best cost is 0.100000, 60 scouts are called\nAt iteration 600, the best cost is 0.100000, 75 scouts are called\nAt iteration 700, the best cost is 0.100000, 84 scouts are called\nAt iteration 800, the best cost is 0.100000, 91 scouts are called\nAt iteration 900, the best cost is 0.100000, 105 scouts are called\nAt iteration 1000, the best cost is 0.100000, 117 scouts are called\nAt iteration 1100, the best cost is 0.100000, 127 scouts are called\nAt iteration 1200, the best cost is 0.100000, 135 scouts are called\nAt iteration 1300, the best cost is 0.100000, 148 scouts are called\nRunning Single Observer\nRunning MST\nCost of MST is 0.967333\nCost of single observer is 0.100000\nCost of ABC is 0.100000\n============================\nTEST SUITE 233\nRunning ABC\nAt iteration 0, the best cost is 120.855217, 15 scouts are called\nAt iteration 100, the best cost is 68.788364, 15 scouts are called\nAt iteration 200, the best cost is 63.212422, 30 scouts are called\nAt iteration 300, the best cost is 63.212422, 45 scouts are called\nAt iteration 400, the best cost is 63.212422, 60 scouts are called\nAt iteration 500, the best cost is 63.212422, 69 scouts are called\nAt iteration 600, the best cost is 59.787378, 76 scouts are called\nAt iteration 700, the best cost is 59.787378, 90 scouts are called\nAt iteration 800, the best cost is 59.787378, 105 scouts are called\nAt iteration 900, the best cost is 59.787378, 118 scouts are called\nAt iteration 1000, the best cost is 59.787378, 131 scouts are called\nAt iteration 1100, the best cost is 59.787378, 142 scouts are called\nAt iteration 1200, the best cost is 59.787378, 150 scouts are called\nAt iteration 1300, the best cost is 59.787378, 165 scouts are called\nRunning Single Observer\nRunning MST\nCost of MST is 138.819100\nCost of single observer is 65.183382\nCost of ABC is 59.787378\n============================\nTEST SUITE 202\nRunning ABC\nAt iteration 0, the best cost is 77.123514, 15 scouts are called\nAt iteration 100, the best cost is 33.878205, 15 scouts are called\nAt iteration 200, the best cost is 33.878205, 30 scouts are called\nAt iteration 300, the best cost is 33.108788, 45 scouts are called\nAt iteration 400, the best cost is 33.108788, 59 scouts are called\nAt iteration 500, the best cost is 33.108788, 65 scouts are called\nAt iteration 600, the best cost is 33.108788, 76 scouts are called\nAt iteration 700, the best cost is 33.108788, 90 scouts are called\nAt iteration 800, the best cost is 33.108788, 103 scouts are called\nAt iteration 900, the best cost is 33.108788, 115 scouts are called\nAt iteration 1000, the best cost is 33.108788, 125 scouts are called\nAt iteration 1100, the best cost is 33.108788, 135 scouts are called\nAt iteration 1200, the best cost is 33.108788, 150 scouts are called\nAt iteration 1300, the best cost is 33.108788, 161 scouts are called\nRunning Single Observer\nRunning MST\nCost of MST is 106.731933\nCost of single observer is 34.406970\nCost of ABC is 33.108788\n============================\nAverage cost ratio to MST is 0.401207\nAverage cost ratio to Single observer is 0.774974\n"
    }
   ],
   "source": [
    "TestABC(10, 15, 3, 1400, 100)"
   ]
  },
  {
   "cell_type": "code",
   "execution_count": 3,
   "metadata": {},
   "outputs": [],
   "source": [
    "G = read_input_file(\"./inputs/large-356.in\")"
   ]
  },
  {
   "cell_type": "code",
   "execution_count": 4,
   "metadata": {
    "tags": [
     "outputPrepend"
    ]
   },
   "outputs": [
    {
     "output_type": "stream",
     "name": "stdout",
     "text": "Performing constructive exploration. \nconstructive exploration found a result! Let's see if ABC found a better one\nAt iteration 0, the best cost is 16.001042, 15 scouts are called\nAt iteration 100, the best cost is 12.051615, 15 scouts are called\nAt iteration 200, the best cost is 11.386738, 15 scouts are called\nAt iteration 300, the best cost is 11.386738, 27 scouts are called\nAt iteration 400, the best cost is 11.386738, 30 scouts are called\nAt iteration 500, the best cost is 11.386738, 31 scouts are called\nAt iteration 600, the best cost is 11.386738, 40 scouts are called\nAt iteration 700, the best cost is 11.386738, 45 scouts are called\nAt iteration 800, the best cost is 11.386738, 49 scouts are called\nAt iteration 900, the best cost is 11.386738, 53 scouts are called\nAt iteration 1000, the best cost is 11.386738, 60 scouts are called\nAt iteration 1100, the best cost is 11.386738, 65 scouts are called\nAt iteration 1200, the best cost is 11.386738, 69 scouts are called\nAt iteration 1300, the best cost is 11.303111, 75 scouts are called\nAt iteration 1400, the best cost is 11.158939, 81 scouts are called\nAt iteration 1500, the best cost is 11.158939, 86 scouts are called\nAt iteration 1600, the best cost is 11.158939, 91 scouts are called\nAt iteration 1700, the best cost is 11.158939, 98 scouts are called\nAt iteration 1800, the best cost is 11.158939, 103 scouts are called\nAt iteration 1900, the best cost is 11.035347, 109 scouts are called\n"
    },
    {
     "output_type": "error",
     "ename": "TypeError",
     "evalue": "cost() missing 1 required positional argument: 'G'",
     "traceback": [
      "\u001b[1;31m---------------------------------------------------------------------------\u001b[0m",
      "\u001b[1;31mTypeError\u001b[0m                                 Traceback (most recent call last)",
      "\u001b[1;32m<ipython-input-4-863389749753>\u001b[0m in \u001b[0;36m<module>\u001b[1;34m\u001b[0m\n\u001b[0;32m      1\u001b[0m \u001b[0mT\u001b[0m \u001b[1;33m=\u001b[0m \u001b[0msolver\u001b[0m\u001b[1;33m.\u001b[0m\u001b[0mABC\u001b[0m\u001b[1;33m(\u001b[0m\u001b[0mG\u001b[0m\u001b[1;33m,\u001b[0m \u001b[1;36m15\u001b[0m\u001b[1;33m,\u001b[0m \u001b[1;36m5\u001b[0m\u001b[1;33m,\u001b[0m \u001b[1;36m2000\u001b[0m\u001b[1;33m,\u001b[0m \u001b[1;36m100\u001b[0m\u001b[1;33m,\u001b[0m \u001b[1;32mTrue\u001b[0m\u001b[1;33m)\u001b[0m\u001b[1;33m\u001b[0m\u001b[1;33m\u001b[0m\u001b[0m\n\u001b[1;32m----> 2\u001b[1;33m \u001b[0mcost\u001b[0m\u001b[1;33m(\u001b[0m\u001b[0mT\u001b[0m\u001b[1;33m)\u001b[0m\u001b[1;33m\u001b[0m\u001b[1;33m\u001b[0m\u001b[0m\n\u001b[0m",
      "\u001b[1;31mTypeError\u001b[0m: cost() missing 1 required positional argument: 'G'"
     ]
    }
   ],
   "source": [
    "T = solver.ABC(G, 15, 5, 2000, 100, True)\n",
    "cost(T, G)"
   ]
  },
  {
   "cell_type": "code",
   "execution_count": 44,
   "metadata": {},
   "outputs": [],
   "source": [
    "def getCost(fileName: str):\n",
    "    G = read_input_file(\"./inputs/%s.in\" % fileName)\n",
    "    T = read_output_file(\"./outputs/%s.out\" % fileName, G)\n",
    "    \n",
    "    plt.subplot(221)\n",
    "    nx.draw_shell(G)\n",
    "    plt.subplot(224)\n",
    "    nx.draw_shell(T)\n",
    "\n",
    "    if len(T) == 1:\n",
    "        return 0\n",
    "    return average_pairwise_distance_fast(T)"
   ]
  },
  {
   "cell_type": "code",
   "execution_count": 45,
   "metadata": {},
   "outputs": [
    {
     "output_type": "execute_result",
     "data": {
      "text/plain": "7.471471471471472"
     },
     "metadata": {},
     "execution_count": 45
    },
    {
     "output_type": "display_data",
     "data": {
      "text/plain": "<Figure size 432x288 with 2 Axes>",
      "image/svg+xml": "<?xml version=\"1.0\" encoding=\"utf-8\" standalone=\"no\"?>\r\n<!DOCTYPE svg PUBLIC \"-//W3C//DTD SVG 1.1//EN\"\r\n  \"http://www.w3.org/Graphics/SVG/1.1/DTD/svg11.dtd\">\r\n<!-- Created with matplotlib (https://matplotlib.org/) -->\r\n<svg height=\"231.84pt\" version=\"1.1\" viewBox=\"0 0 349.2 231.84\" width=\"349.2pt\" xmlns=\"http://www.w3.org/2000/svg\" xmlns:xlink=\"http://www.w3.org/1999/xlink\">\r\n <defs>\r\n  <style type=\"text/css\">\r\n*{stroke-linecap:butt;stroke-linejoin:round;}\r\n  </style>\r\n </defs>\r\n <g id=\"figure_1\">\r\n  <g id=\"patch_1\">\r\n   <path d=\"M 0 231.84 \r\nL 349.2 231.84 \r\nL 349.2 0 \r\nL 0 0 \r\nz\r\n\" style=\"fill:#ffffff;\"/>\r\n  </g>\r\n  <g id=\"axes_1\">\r\n   <g id=\"LineCollection_1\">\r\n    <path clip-path=\"url(#pff291ab076)\" d=\"M 148.737061 56.618182 \r\nL 148.310118 51.907855 \r\n\" style=\"fill:none;stroke:#000000;\"/>\r\n    <path clip-path=\"url(#pff291ab076)\" d=\"M 148.737061 56.618182 \r\nL 147.034851 47.258935 \r\n\" style=\"fill:none;stroke:#000000;\"/>\r\n    <path clip-path=\"url(#pff291ab076)\" d=\"M 148.310118 51.907855 \r\nL 147.034851 47.258935 \r\n\" style=\"fill:none;stroke:#000000;\"/>\r\n    <path clip-path=\"url(#pff291ab076)\" d=\"M 147.034851 47.258935 \r\nL 144.92789 42.732027 \r\n\" style=\"fill:none;stroke:#000000;\"/>\r\n    <path clip-path=\"url(#pff291ab076)\" d=\"M 147.034851 47.258935 \r\nL 142.016701 38.386146 \r\n\" style=\"fill:none;stroke:#000000;\"/>\r\n    <path clip-path=\"url(#pff291ab076)\" d=\"M 144.92789 42.732027 \r\nL 142.016701 38.386146 \r\n\" style=\"fill:none;stroke:#000000;\"/>\r\n    <path clip-path=\"url(#pff291ab076)\" d=\"M 142.016701 38.386146 \r\nL 138.339235 34.277949 \r\n\" style=\"fill:none;stroke:#000000;\"/>\r\n    <path clip-path=\"url(#pff291ab076)\" d=\"M 142.016701 38.386146 \r\nL 133.943435 30.460986 \r\n\" style=\"fill:none;stroke:#000000;\"/>\r\n    <path clip-path=\"url(#pff291ab076)\" d=\"M 138.339235 34.277949 \r\nL 133.943435 30.460986 \r\n\" style=\"fill:none;stroke:#000000;\"/>\r\n    <path clip-path=\"url(#pff291ab076)\" d=\"M 133.943435 30.460986 \r\nL 128.886603 26.985027 \r\n\" style=\"fill:none;stroke:#000000;\"/>\r\n    <path clip-path=\"url(#pff291ab076)\" d=\"M 133.943435 30.460986 \r\nL 123.234669 23.89538 \r\n\" style=\"fill:none;stroke:#000000;\"/>\r\n    <path clip-path=\"url(#pff291ab076)\" d=\"M 128.886603 26.985027 \r\nL 123.234669 23.89538 \r\n\" style=\"fill:none;stroke:#000000;\"/>\r\n    <path clip-path=\"url(#pff291ab076)\" d=\"M 123.234669 23.89538 \r\nL 117.061306 21.232324 \r\n\" style=\"fill:none;stroke:#000000;\"/>\r\n    <path clip-path=\"url(#pff291ab076)\" d=\"M 123.234669 23.89538 \r\nL 110.447002 19.030579 \r\n\" style=\"fill:none;stroke:#000000;\"/>\r\n    <path clip-path=\"url(#pff291ab076)\" d=\"M 117.061306 21.232324 \r\nL 110.447002 19.030579 \r\n\" style=\"fill:none;stroke:#000000;\"/>\r\n    <path clip-path=\"url(#pff291ab076)\" d=\"M 110.447002 19.030579 \r\nL 103.477974 17.318843 \r\n\" style=\"fill:none;stroke:#000000;\"/>\r\n    <path clip-path=\"url(#pff291ab076)\" d=\"M 110.447002 19.030579 \r\nL 96.245088 16.119436 \r\n\" style=\"fill:none;stroke:#000000;\"/>\r\n    <path clip-path=\"url(#pff291ab076)\" d=\"M 103.477974 17.318843 \r\nL 96.245088 16.119436 \r\n\" style=\"fill:none;stroke:#000000;\"/>\r\n    <path clip-path=\"url(#pff291ab076)\" d=\"M 96.245088 16.119436 \r\nL 88.842627 15.447991 \r\n\" style=\"fill:none;stroke:#000000;\"/>\r\n    <path clip-path=\"url(#pff291ab076)\" d=\"M 96.245088 16.119436 \r\nL 81.367087 15.313264 \r\n\" style=\"fill:none;stroke:#000000;\"/>\r\n    <path clip-path=\"url(#pff291ab076)\" d=\"M 88.842627 15.447991 \r\nL 81.367087 15.313264 \r\n\" style=\"fill:none;stroke:#000000;\"/>\r\n    <path clip-path=\"url(#pff291ab076)\" d=\"M 81.367087 15.313264 \r\nL 73.915939 15.717009 \r\n\" style=\"fill:none;stroke:#000000;\"/>\r\n    <path clip-path=\"url(#pff291ab076)\" d=\"M 81.367087 15.313264 \r\nL 66.586311 16.653962 \r\n\" style=\"fill:none;stroke:#000000;\"/>\r\n    <path clip-path=\"url(#pff291ab076)\" d=\"M 73.915939 15.717009 \r\nL 66.586311 16.653962 \r\n\" style=\"fill:none;stroke:#000000;\"/>\r\n    <path clip-path=\"url(#pff291ab076)\" d=\"M 66.586311 16.653962 \r\nL 59.47375 18.111911 \r\n\" style=\"fill:none;stroke:#000000;\"/>\r\n    <path clip-path=\"url(#pff291ab076)\" d=\"M 66.586311 16.653962 \r\nL 52.670992 20.071849 \r\n\" style=\"fill:none;stroke:#000000;\"/>\r\n    <path clip-path=\"url(#pff291ab076)\" d=\"M 59.47375 18.111911 \r\nL 52.670992 20.071849 \r\n\" style=\"fill:none;stroke:#000000;\"/>\r\n    <path clip-path=\"url(#pff291ab076)\" d=\"M 52.670992 20.071849 \r\nL 46.266716 22.508221 \r\n\" style=\"fill:none;stroke:#000000;\"/>\r\n    <path clip-path=\"url(#pff291ab076)\" d=\"M 52.670992 20.071849 \r\nL 40.344409 25.389269 \r\n\" style=\"fill:none;stroke:#000000;\"/>\r\n    <path clip-path=\"url(#pff291ab076)\" d=\"M 46.266716 22.508221 \r\nL 40.344409 25.389269 \r\n\" style=\"fill:none;stroke:#000000;\"/>\r\n    <path clip-path=\"url(#pff291ab076)\" d=\"M 40.344409 25.389269 \r\nL 34.981272 28.677442 \r\n\" style=\"fill:none;stroke:#000000;\"/>\r\n    <path clip-path=\"url(#pff291ab076)\" d=\"M 40.344409 25.389269 \r\nL 30.247233 32.329858 \r\n\" style=\"fill:none;stroke:#000000;\"/>\r\n    <path clip-path=\"url(#pff291ab076)\" d=\"M 34.981272 28.677442 \r\nL 30.247233 32.329858 \r\n\" style=\"fill:none;stroke:#000000;\"/>\r\n    <path clip-path=\"url(#pff291ab076)\" d=\"M 30.247233 32.329858 \r\nL 26.20401 36.298908 \r\n\" style=\"fill:none;stroke:#000000;\"/>\r\n    <path clip-path=\"url(#pff291ab076)\" d=\"M 30.247233 32.329858 \r\nL 22.904302 40.532851 \r\n\" style=\"fill:none;stroke:#000000;\"/>\r\n    <path clip-path=\"url(#pff291ab076)\" d=\"M 26.20401 36.298908 \r\nL 22.904302 40.532851 \r\n\" style=\"fill:none;stroke:#000000;\"/>\r\n    <path clip-path=\"url(#pff291ab076)\" d=\"M 22.904302 40.532851 \r\nL 20.391126 44.976491 \r\n\" style=\"fill:none;stroke:#000000;\"/>\r\n    <path clip-path=\"url(#pff291ab076)\" d=\"M 22.904302 40.532851 \r\nL 18.697252 49.571899 \r\n\" style=\"fill:none;stroke:#000000;\"/>\r\n    <path clip-path=\"url(#pff291ab076)\" d=\"M 20.391126 44.976491 \r\nL 18.697252 49.571899 \r\n\" style=\"fill:none;stroke:#000000;\"/>\r\n    <path clip-path=\"url(#pff291ab076)\" d=\"M 18.697252 49.571899 \r\nL 17.844758 54.259175 \r\n\" style=\"fill:none;stroke:#000000;\"/>\r\n    <path clip-path=\"url(#pff291ab076)\" d=\"M 18.697252 49.571899 \r\nL 17.844758 58.977195 \r\n\" style=\"fill:none;stroke:#000000;\"/>\r\n    <path clip-path=\"url(#pff291ab076)\" d=\"M 17.844758 54.259175 \r\nL 17.844758 58.977195 \r\n\" style=\"fill:none;stroke:#000000;\"/>\r\n    <path clip-path=\"url(#pff291ab076)\" d=\"M 17.844758 58.977195 \r\nL 18.697252 63.664461 \r\n\" style=\"fill:none;stroke:#000000;\"/>\r\n    <path clip-path=\"url(#pff291ab076)\" d=\"M 17.844758 58.977195 \r\nL 20.391126 68.25987 \r\n\" style=\"fill:none;stroke:#000000;\"/>\r\n    <path clip-path=\"url(#pff291ab076)\" d=\"M 18.697252 63.664461 \r\nL 20.391126 68.25987 \r\n\" style=\"fill:none;stroke:#000000;\"/>\r\n    <path clip-path=\"url(#pff291ab076)\" d=\"M 20.391126 68.25987 \r\nL 22.904299 72.70351 \r\n\" style=\"fill:none;stroke:#000000;\"/>\r\n    <path clip-path=\"url(#pff291ab076)\" d=\"M 20.391126 68.25987 \r\nL 26.204006 76.937453 \r\n\" style=\"fill:none;stroke:#000000;\"/>\r\n    <path clip-path=\"url(#pff291ab076)\" d=\"M 22.904299 72.70351 \r\nL 26.204006 76.937453 \r\n\" style=\"fill:none;stroke:#000000;\"/>\r\n    <path clip-path=\"url(#pff291ab076)\" d=\"M 26.204006 76.937453 \r\nL 30.247241 80.906513 \r\n\" style=\"fill:none;stroke:#000000;\"/>\r\n    <path clip-path=\"url(#pff291ab076)\" d=\"M 26.204006 76.937453 \r\nL 34.981279 84.558927 \r\n\" style=\"fill:none;stroke:#000000;\"/>\r\n    <path clip-path=\"url(#pff291ab076)\" d=\"M 30.247241 80.906513 \r\nL 34.981279 84.558927 \r\n\" style=\"fill:none;stroke:#000000;\"/>\r\n    <path clip-path=\"url(#pff291ab076)\" d=\"M 34.981279 84.558927 \r\nL 40.344405 87.847092 \r\n\" style=\"fill:none;stroke:#000000;\"/>\r\n    <path clip-path=\"url(#pff291ab076)\" d=\"M 34.981279 84.558927 \r\nL 46.266712 90.72814 \r\n\" style=\"fill:none;stroke:#000000;\"/>\r\n    <path clip-path=\"url(#pff291ab076)\" d=\"M 34.981279 84.558927 \r\nL 52.670988 93.164515 \r\n\" style=\"fill:none;stroke:#000000;\"/>\r\n    <path clip-path=\"url(#pff291ab076)\" d=\"M 34.981279 84.558927 \r\nL 59.473746 95.124452 \r\n\" style=\"fill:none;stroke:#000000;\"/>\r\n    <path clip-path=\"url(#pff291ab076)\" d=\"M 34.981279 84.558927 \r\nL 66.586299 96.582399 \r\n\" style=\"fill:none;stroke:#000000;\"/>\r\n    <path clip-path=\"url(#pff291ab076)\" d=\"M 34.981279 84.558927 \r\nL 73.915927 97.519355 \r\n\" style=\"fill:none;stroke:#000000;\"/>\r\n    <path clip-path=\"url(#pff291ab076)\" d=\"M 34.981279 84.558927 \r\nL 81.367075 97.9231 \r\n\" style=\"fill:none;stroke:#000000;\"/>\r\n    <path clip-path=\"url(#pff291ab076)\" d=\"M 34.981279 84.558927 \r\nL 88.842639 97.78837 \r\n\" style=\"fill:none;stroke:#000000;\"/>\r\n    <path clip-path=\"url(#pff291ab076)\" d=\"M 34.981279 84.558927 \r\nL 96.245098 97.116925 \r\n\" style=\"fill:none;stroke:#000000;\"/>\r\n    <path clip-path=\"url(#pff291ab076)\" d=\"M 34.981279 84.558927 \r\nL 103.477984 95.917518 \r\n\" style=\"fill:none;stroke:#000000;\"/>\r\n    <path clip-path=\"url(#pff291ab076)\" d=\"M 34.981279 84.558927 \r\nL 110.447006 94.205784 \r\n\" style=\"fill:none;stroke:#000000;\"/>\r\n    <path clip-path=\"url(#pff291ab076)\" d=\"M 34.981279 84.558927 \r\nL 117.06131 92.004037 \r\n\" style=\"fill:none;stroke:#000000;\"/>\r\n    <path clip-path=\"url(#pff291ab076)\" d=\"M 34.981279 84.558927 \r\nL 123.234669 89.340984 \r\n\" style=\"fill:none;stroke:#000000;\"/>\r\n    <path clip-path=\"url(#pff291ab076)\" d=\"M 34.981279 84.558927 \r\nL 128.886603 86.251336 \r\n\" style=\"fill:none;stroke:#000000;\"/>\r\n    <path clip-path=\"url(#pff291ab076)\" d=\"M 34.981279 84.558927 \r\nL 133.943431 82.775377 \r\n\" style=\"fill:none;stroke:#000000;\"/>\r\n    <path clip-path=\"url(#pff291ab076)\" d=\"M 34.981279 84.558927 \r\nL 138.339231 78.95842 \r\n\" style=\"fill:none;stroke:#000000;\"/>\r\n    <path clip-path=\"url(#pff291ab076)\" d=\"M 34.981279 84.558927 \r\nL 142.016697 74.850224 \r\n\" style=\"fill:none;stroke:#000000;\"/>\r\n    <path clip-path=\"url(#pff291ab076)\" d=\"M 34.981279 84.558927 \r\nL 144.927887 70.504344 \r\n\" style=\"fill:none;stroke:#000000;\"/>\r\n    <path clip-path=\"url(#pff291ab076)\" d=\"M 34.981279 84.558927 \r\nL 147.034847 65.977438 \r\n\" style=\"fill:none;stroke:#000000;\"/>\r\n    <path clip-path=\"url(#pff291ab076)\" d=\"M 34.981279 84.558927 \r\nL 148.310118 61.328499 \r\n\" style=\"fill:none;stroke:#000000;\"/>\r\n    <path clip-path=\"url(#pff291ab076)\" d=\"M 147.034847 65.977438 \r\nL 148.310118 61.328499 \r\n\" style=\"fill:none;stroke:#000000;\"/>\r\n   </g>\r\n   <g id=\"PathCollection_1\">\r\n    <defs>\r\n     <path d=\"M 0 8.660254 \r\nC 2.296726 8.660254 4.499694 7.747755 6.123724 6.123724 \r\nC 7.747755 4.499694 8.660254 2.296726 8.660254 0 \r\nC 8.660254 -2.296726 7.747755 -4.499694 6.123724 -6.123724 \r\nC 4.499694 -7.747755 2.296726 -8.660254 0 -8.660254 \r\nC -2.296726 -8.660254 -4.499694 -7.747755 -6.123724 -6.123724 \r\nC -7.747755 -4.499694 -8.660254 -2.296726 -8.660254 0 \r\nC -8.660254 2.296726 -7.747755 4.499694 -6.123724 6.123724 \r\nC -4.499694 7.747755 -2.296726 8.660254 0 8.660254 \r\nz\r\n\" id=\"m9829a6d9d2\" style=\"stroke:#1f78b4;\"/>\r\n    </defs>\r\n    <g clip-path=\"url(#pff291ab076)\">\r\n     <use style=\"fill:#1f78b4;stroke:#1f78b4;\" x=\"148.737061\" xlink:href=\"#m9829a6d9d2\" y=\"56.618182\"/>\r\n     <use style=\"fill:#1f78b4;stroke:#1f78b4;\" x=\"148.310118\" xlink:href=\"#m9829a6d9d2\" y=\"51.907855\"/>\r\n     <use style=\"fill:#1f78b4;stroke:#1f78b4;\" x=\"147.034851\" xlink:href=\"#m9829a6d9d2\" y=\"47.258935\"/>\r\n     <use style=\"fill:#1f78b4;stroke:#1f78b4;\" x=\"144.92789\" xlink:href=\"#m9829a6d9d2\" y=\"42.732027\"/>\r\n     <use style=\"fill:#1f78b4;stroke:#1f78b4;\" x=\"142.016701\" xlink:href=\"#m9829a6d9d2\" y=\"38.386146\"/>\r\n     <use style=\"fill:#1f78b4;stroke:#1f78b4;\" x=\"138.339235\" xlink:href=\"#m9829a6d9d2\" y=\"34.277949\"/>\r\n     <use style=\"fill:#1f78b4;stroke:#1f78b4;\" x=\"133.943435\" xlink:href=\"#m9829a6d9d2\" y=\"30.460986\"/>\r\n     <use style=\"fill:#1f78b4;stroke:#1f78b4;\" x=\"128.886603\" xlink:href=\"#m9829a6d9d2\" y=\"26.985027\"/>\r\n     <use style=\"fill:#1f78b4;stroke:#1f78b4;\" x=\"123.234669\" xlink:href=\"#m9829a6d9d2\" y=\"23.89538\"/>\r\n     <use style=\"fill:#1f78b4;stroke:#1f78b4;\" x=\"117.061306\" xlink:href=\"#m9829a6d9d2\" y=\"21.232324\"/>\r\n     <use style=\"fill:#1f78b4;stroke:#1f78b4;\" x=\"110.447002\" xlink:href=\"#m9829a6d9d2\" y=\"19.030579\"/>\r\n     <use style=\"fill:#1f78b4;stroke:#1f78b4;\" x=\"103.477974\" xlink:href=\"#m9829a6d9d2\" y=\"17.318843\"/>\r\n     <use style=\"fill:#1f78b4;stroke:#1f78b4;\" x=\"96.245088\" xlink:href=\"#m9829a6d9d2\" y=\"16.119436\"/>\r\n     <use style=\"fill:#1f78b4;stroke:#1f78b4;\" x=\"88.842627\" xlink:href=\"#m9829a6d9d2\" y=\"15.447991\"/>\r\n     <use style=\"fill:#1f78b4;stroke:#1f78b4;\" x=\"81.367087\" xlink:href=\"#m9829a6d9d2\" y=\"15.313264\"/>\r\n     <use style=\"fill:#1f78b4;stroke:#1f78b4;\" x=\"73.915939\" xlink:href=\"#m9829a6d9d2\" y=\"15.717009\"/>\r\n     <use style=\"fill:#1f78b4;stroke:#1f78b4;\" x=\"66.586311\" xlink:href=\"#m9829a6d9d2\" y=\"16.653962\"/>\r\n     <use style=\"fill:#1f78b4;stroke:#1f78b4;\" x=\"59.47375\" xlink:href=\"#m9829a6d9d2\" y=\"18.111911\"/>\r\n     <use style=\"fill:#1f78b4;stroke:#1f78b4;\" x=\"52.670992\" xlink:href=\"#m9829a6d9d2\" y=\"20.071849\"/>\r\n     <use style=\"fill:#1f78b4;stroke:#1f78b4;\" x=\"46.266716\" xlink:href=\"#m9829a6d9d2\" y=\"22.508221\"/>\r\n     <use style=\"fill:#1f78b4;stroke:#1f78b4;\" x=\"40.344409\" xlink:href=\"#m9829a6d9d2\" y=\"25.389269\"/>\r\n     <use style=\"fill:#1f78b4;stroke:#1f78b4;\" x=\"34.981272\" xlink:href=\"#m9829a6d9d2\" y=\"28.677442\"/>\r\n     <use style=\"fill:#1f78b4;stroke:#1f78b4;\" x=\"30.247233\" xlink:href=\"#m9829a6d9d2\" y=\"32.329858\"/>\r\n     <use style=\"fill:#1f78b4;stroke:#1f78b4;\" x=\"26.20401\" xlink:href=\"#m9829a6d9d2\" y=\"36.298908\"/>\r\n     <use style=\"fill:#1f78b4;stroke:#1f78b4;\" x=\"22.904302\" xlink:href=\"#m9829a6d9d2\" y=\"40.532851\"/>\r\n     <use style=\"fill:#1f78b4;stroke:#1f78b4;\" x=\"20.391126\" xlink:href=\"#m9829a6d9d2\" y=\"44.976491\"/>\r\n     <use style=\"fill:#1f78b4;stroke:#1f78b4;\" x=\"18.697252\" xlink:href=\"#m9829a6d9d2\" y=\"49.571899\"/>\r\n     <use style=\"fill:#1f78b4;stroke:#1f78b4;\" x=\"17.844758\" xlink:href=\"#m9829a6d9d2\" y=\"54.259175\"/>\r\n     <use style=\"fill:#1f78b4;stroke:#1f78b4;\" x=\"17.844758\" xlink:href=\"#m9829a6d9d2\" y=\"58.977195\"/>\r\n     <use style=\"fill:#1f78b4;stroke:#1f78b4;\" x=\"18.697252\" xlink:href=\"#m9829a6d9d2\" y=\"63.664461\"/>\r\n     <use style=\"fill:#1f78b4;stroke:#1f78b4;\" x=\"20.391126\" xlink:href=\"#m9829a6d9d2\" y=\"68.25987\"/>\r\n     <use style=\"fill:#1f78b4;stroke:#1f78b4;\" x=\"22.904299\" xlink:href=\"#m9829a6d9d2\" y=\"72.70351\"/>\r\n     <use style=\"fill:#1f78b4;stroke:#1f78b4;\" x=\"26.204006\" xlink:href=\"#m9829a6d9d2\" y=\"76.937453\"/>\r\n     <use style=\"fill:#1f78b4;stroke:#1f78b4;\" x=\"30.247241\" xlink:href=\"#m9829a6d9d2\" y=\"80.906513\"/>\r\n     <use style=\"fill:#1f78b4;stroke:#1f78b4;\" x=\"34.981279\" xlink:href=\"#m9829a6d9d2\" y=\"84.558927\"/>\r\n     <use style=\"fill:#1f78b4;stroke:#1f78b4;\" x=\"40.344405\" xlink:href=\"#m9829a6d9d2\" y=\"87.847092\"/>\r\n     <use style=\"fill:#1f78b4;stroke:#1f78b4;\" x=\"46.266712\" xlink:href=\"#m9829a6d9d2\" y=\"90.72814\"/>\r\n     <use style=\"fill:#1f78b4;stroke:#1f78b4;\" x=\"52.670988\" xlink:href=\"#m9829a6d9d2\" y=\"93.164515\"/>\r\n     <use style=\"fill:#1f78b4;stroke:#1f78b4;\" x=\"59.473746\" xlink:href=\"#m9829a6d9d2\" y=\"95.124452\"/>\r\n     <use style=\"fill:#1f78b4;stroke:#1f78b4;\" x=\"66.586299\" xlink:href=\"#m9829a6d9d2\" y=\"96.582399\"/>\r\n     <use style=\"fill:#1f78b4;stroke:#1f78b4;\" x=\"73.915927\" xlink:href=\"#m9829a6d9d2\" y=\"97.519355\"/>\r\n     <use style=\"fill:#1f78b4;stroke:#1f78b4;\" x=\"81.367075\" xlink:href=\"#m9829a6d9d2\" y=\"97.9231\"/>\r\n     <use style=\"fill:#1f78b4;stroke:#1f78b4;\" x=\"88.842639\" xlink:href=\"#m9829a6d9d2\" y=\"97.78837\"/>\r\n     <use style=\"fill:#1f78b4;stroke:#1f78b4;\" x=\"96.245098\" xlink:href=\"#m9829a6d9d2\" y=\"97.116925\"/>\r\n     <use style=\"fill:#1f78b4;stroke:#1f78b4;\" x=\"103.477984\" xlink:href=\"#m9829a6d9d2\" y=\"95.917518\"/>\r\n     <use style=\"fill:#1f78b4;stroke:#1f78b4;\" x=\"110.447006\" xlink:href=\"#m9829a6d9d2\" y=\"94.205784\"/>\r\n     <use style=\"fill:#1f78b4;stroke:#1f78b4;\" x=\"117.06131\" xlink:href=\"#m9829a6d9d2\" y=\"92.004037\"/>\r\n     <use style=\"fill:#1f78b4;stroke:#1f78b4;\" x=\"123.234669\" xlink:href=\"#m9829a6d9d2\" y=\"89.340984\"/>\r\n     <use style=\"fill:#1f78b4;stroke:#1f78b4;\" x=\"128.886603\" xlink:href=\"#m9829a6d9d2\" y=\"86.251336\"/>\r\n     <use style=\"fill:#1f78b4;stroke:#1f78b4;\" x=\"133.943431\" xlink:href=\"#m9829a6d9d2\" y=\"82.775377\"/>\r\n     <use style=\"fill:#1f78b4;stroke:#1f78b4;\" x=\"138.339231\" xlink:href=\"#m9829a6d9d2\" y=\"78.95842\"/>\r\n     <use style=\"fill:#1f78b4;stroke:#1f78b4;\" x=\"142.016697\" xlink:href=\"#m9829a6d9d2\" y=\"74.850224\"/>\r\n     <use style=\"fill:#1f78b4;stroke:#1f78b4;\" x=\"144.927887\" xlink:href=\"#m9829a6d9d2\" y=\"70.504344\"/>\r\n     <use style=\"fill:#1f78b4;stroke:#1f78b4;\" x=\"147.034847\" xlink:href=\"#m9829a6d9d2\" y=\"65.977438\"/>\r\n     <use style=\"fill:#1f78b4;stroke:#1f78b4;\" x=\"148.310118\" xlink:href=\"#m9829a6d9d2\" y=\"61.328499\"/>\r\n    </g>\r\n   </g>\r\n  </g>\r\n  <g id=\"axes_2\">\r\n   <g id=\"LineCollection_2\">\r\n    <path clip-path=\"url(#p90033022dd)\" d=\"M 331.35176 175.221818 \r\nL 330.408728 168.235235 \r\n\" style=\"fill:none;stroke:#000000;\"/>\r\n    <path clip-path=\"url(#p90033022dd)\" d=\"M 331.35176 175.221818 \r\nL 327.606763 161.449644 \r\n\" style=\"fill:none;stroke:#000000;\"/>\r\n    <path clip-path=\"url(#p90033022dd)\" d=\"M 330.408728 168.235235 \r\nL 323.026467 155.060253 \r\n\" style=\"fill:none;stroke:#000000;\"/>\r\n    <path clip-path=\"url(#p90033022dd)\" d=\"M 323.026467 155.060253 \r\nL 316.799615 149.250873 \r\n\" style=\"fill:none;stroke:#000000;\"/>\r\n    <path clip-path=\"url(#p90033022dd)\" d=\"M 316.799615 149.250873 \r\nL 309.105338 144.188633 \r\n\" style=\"fill:none;stroke:#000000;\"/>\r\n    <path clip-path=\"url(#p90033022dd)\" d=\"M 309.105338 144.188633 \r\nL 300.164985 140.019158 \r\n\" style=\"fill:none;stroke:#000000;\"/>\r\n    <path clip-path=\"url(#p90033022dd)\" d=\"M 300.164985 140.019158 \r\nL 290.235757 136.862401 \r\n\" style=\"fill:none;stroke:#000000;\"/>\r\n    <path clip-path=\"url(#p90033022dd)\" d=\"M 290.235757 136.862401 \r\nL 279.60329 134.809171 \r\n\" style=\"fill:none;stroke:#000000;\"/>\r\n    <path clip-path=\"url(#p90033022dd)\" d=\"M 279.60329 134.809171 \r\nL 268.573477 133.918544 \r\n\" style=\"fill:none;stroke:#000000;\"/>\r\n    <path clip-path=\"url(#p90033022dd)\" d=\"M 268.573477 133.918544 \r\nL 257.463617 134.216134 \r\n\" style=\"fill:none;stroke:#000000;\"/>\r\n    <path clip-path=\"url(#p90033022dd)\" d=\"M 257.463617 134.216134 \r\nL 246.593313 135.693384 \r\n\" style=\"fill:none;stroke:#000000;\"/>\r\n    <path clip-path=\"url(#p90033022dd)\" d=\"M 246.593313 135.693384 \r\nL 236.275299 138.307795 \r\n\" style=\"fill:none;stroke:#000000;\"/>\r\n    <path clip-path=\"url(#p90033022dd)\" d=\"M 236.275299 138.307795 \r\nL 226.806397 141.984154 \r\n\" style=\"fill:none;stroke:#000000;\"/>\r\n    <path clip-path=\"url(#p90033022dd)\" d=\"M 226.806397 141.984154 \r\nL 218.459014 146.6167 \r\n\" style=\"fill:none;stroke:#000000;\"/>\r\n    <path clip-path=\"url(#p90033022dd)\" d=\"M 218.459014 146.6167 \r\nL 211.473274 152.072172 \r\n\" style=\"fill:none;stroke:#000000;\"/>\r\n    <path clip-path=\"url(#p90033022dd)\" d=\"M 211.473274 152.072172 \r\nL 206.050164 158.193608 \r\n\" style=\"fill:none;stroke:#000000;\"/>\r\n    <path clip-path=\"url(#p90033022dd)\" d=\"M 206.050164 158.193608 \r\nL 202.34569 164.804914 \r\n\" style=\"fill:none;stroke:#000000;\"/>\r\n    <path clip-path=\"url(#p90033022dd)\" d=\"M 206.050164 158.193608 \r\nL 200.466422 171.715896 \r\n\" style=\"fill:none;stroke:#000000;\"/>\r\n    <path clip-path=\"url(#p90033022dd)\" d=\"M 206.050164 158.193608 \r\nL 200.466422 178.727737 \r\n\" style=\"fill:none;stroke:#000000;\"/>\r\n    <path clip-path=\"url(#p90033022dd)\" d=\"M 206.050164 158.193608 \r\nL 202.34569 185.63872 \r\n\" style=\"fill:none;stroke:#000000;\"/>\r\n    <path clip-path=\"url(#p90033022dd)\" d=\"M 206.050164 158.193608 \r\nL 206.050171 192.250036 \r\n\" style=\"fill:none;stroke:#000000;\"/>\r\n    <path clip-path=\"url(#p90033022dd)\" d=\"M 206.050164 158.193608 \r\nL 211.473278 198.371472 \r\n\" style=\"fill:none;stroke:#000000;\"/>\r\n    <path clip-path=\"url(#p90033022dd)\" d=\"M 206.050164 158.193608 \r\nL 218.45901 203.826934 \r\n\" style=\"fill:none;stroke:#000000;\"/>\r\n    <path clip-path=\"url(#p90033022dd)\" d=\"M 206.050164 158.193608 \r\nL 226.806397 208.45948 \r\n\" style=\"fill:none;stroke:#000000;\"/>\r\n    <path clip-path=\"url(#p90033022dd)\" d=\"M 206.050164 158.193608 \r\nL 236.275311 212.135844 \r\n\" style=\"fill:none;stroke:#000000;\"/>\r\n    <path clip-path=\"url(#p90033022dd)\" d=\"M 206.050164 158.193608 \r\nL 246.59331 214.75025 \r\n\" style=\"fill:none;stroke:#000000;\"/>\r\n    <path clip-path=\"url(#p90033022dd)\" d=\"M 206.050164 158.193608 \r\nL 257.463621 216.227502 \r\n\" style=\"fill:none;stroke:#000000;\"/>\r\n    <path clip-path=\"url(#p90033022dd)\" d=\"M 206.050164 158.193608 \r\nL 268.573465 216.525093 \r\n\" style=\"fill:none;stroke:#000000;\"/>\r\n    <path clip-path=\"url(#p90033022dd)\" d=\"M 206.050164 158.193608 \r\nL 279.603294 215.634463 \r\n\" style=\"fill:none;stroke:#000000;\"/>\r\n    <path clip-path=\"url(#p90033022dd)\" d=\"M 206.050164 158.193608 \r\nL 290.235767 213.581233 \r\n\" style=\"fill:none;stroke:#000000;\"/>\r\n    <path clip-path=\"url(#p90033022dd)\" d=\"M 206.050164 158.193608 \r\nL 300.164981 210.424481 \r\n\" style=\"fill:none;stroke:#000000;\"/>\r\n    <path clip-path=\"url(#p90033022dd)\" d=\"M 206.050164 158.193608 \r\nL 309.105342 206.255001 \r\n\" style=\"fill:none;stroke:#000000;\"/>\r\n    <path clip-path=\"url(#p90033022dd)\" d=\"M 206.050164 158.193608 \r\nL 316.799608 201.192766 \r\n\" style=\"fill:none;stroke:#000000;\"/>\r\n    <path clip-path=\"url(#p90033022dd)\" d=\"M 206.050164 158.193608 \r\nL 323.026471 195.383381 \r\n\" style=\"fill:none;stroke:#000000;\"/>\r\n    <path clip-path=\"url(#p90033022dd)\" d=\"M 206.050164 158.193608 \r\nL 327.606756 188.994001 \r\n\" style=\"fill:none;stroke:#000000;\"/>\r\n    <path clip-path=\"url(#p90033022dd)\" d=\"M 206.050164 158.193608 \r\nL 330.408728 182.208401 \r\n\" style=\"fill:none;stroke:#000000;\"/>\r\n   </g>\r\n   <g id=\"PathCollection_2\">\r\n    <g clip-path=\"url(#p90033022dd)\">\r\n     <use style=\"fill:#1f78b4;stroke:#1f78b4;\" x=\"331.35176\" xlink:href=\"#m9829a6d9d2\" y=\"175.221818\"/>\r\n     <use style=\"fill:#1f78b4;stroke:#1f78b4;\" x=\"330.408728\" xlink:href=\"#m9829a6d9d2\" y=\"168.235235\"/>\r\n     <use style=\"fill:#1f78b4;stroke:#1f78b4;\" x=\"327.606763\" xlink:href=\"#m9829a6d9d2\" y=\"161.449644\"/>\r\n     <use style=\"fill:#1f78b4;stroke:#1f78b4;\" x=\"323.026467\" xlink:href=\"#m9829a6d9d2\" y=\"155.060253\"/>\r\n     <use style=\"fill:#1f78b4;stroke:#1f78b4;\" x=\"316.799615\" xlink:href=\"#m9829a6d9d2\" y=\"149.250873\"/>\r\n     <use style=\"fill:#1f78b4;stroke:#1f78b4;\" x=\"309.105338\" xlink:href=\"#m9829a6d9d2\" y=\"144.188633\"/>\r\n     <use style=\"fill:#1f78b4;stroke:#1f78b4;\" x=\"300.164985\" xlink:href=\"#m9829a6d9d2\" y=\"140.019158\"/>\r\n     <use style=\"fill:#1f78b4;stroke:#1f78b4;\" x=\"290.235757\" xlink:href=\"#m9829a6d9d2\" y=\"136.862401\"/>\r\n     <use style=\"fill:#1f78b4;stroke:#1f78b4;\" x=\"279.60329\" xlink:href=\"#m9829a6d9d2\" y=\"134.809171\"/>\r\n     <use style=\"fill:#1f78b4;stroke:#1f78b4;\" x=\"268.573477\" xlink:href=\"#m9829a6d9d2\" y=\"133.918544\"/>\r\n     <use style=\"fill:#1f78b4;stroke:#1f78b4;\" x=\"257.463617\" xlink:href=\"#m9829a6d9d2\" y=\"134.216134\"/>\r\n     <use style=\"fill:#1f78b4;stroke:#1f78b4;\" x=\"246.593313\" xlink:href=\"#m9829a6d9d2\" y=\"135.693384\"/>\r\n     <use style=\"fill:#1f78b4;stroke:#1f78b4;\" x=\"236.275299\" xlink:href=\"#m9829a6d9d2\" y=\"138.307795\"/>\r\n     <use style=\"fill:#1f78b4;stroke:#1f78b4;\" x=\"226.806397\" xlink:href=\"#m9829a6d9d2\" y=\"141.984154\"/>\r\n     <use style=\"fill:#1f78b4;stroke:#1f78b4;\" x=\"218.459014\" xlink:href=\"#m9829a6d9d2\" y=\"146.6167\"/>\r\n     <use style=\"fill:#1f78b4;stroke:#1f78b4;\" x=\"211.473274\" xlink:href=\"#m9829a6d9d2\" y=\"152.072172\"/>\r\n     <use style=\"fill:#1f78b4;stroke:#1f78b4;\" x=\"206.050164\" xlink:href=\"#m9829a6d9d2\" y=\"158.193608\"/>\r\n     <use style=\"fill:#1f78b4;stroke:#1f78b4;\" x=\"202.34569\" xlink:href=\"#m9829a6d9d2\" y=\"164.804914\"/>\r\n     <use style=\"fill:#1f78b4;stroke:#1f78b4;\" x=\"200.466422\" xlink:href=\"#m9829a6d9d2\" y=\"171.715896\"/>\r\n     <use style=\"fill:#1f78b4;stroke:#1f78b4;\" x=\"200.466422\" xlink:href=\"#m9829a6d9d2\" y=\"178.727737\"/>\r\n     <use style=\"fill:#1f78b4;stroke:#1f78b4;\" x=\"202.34569\" xlink:href=\"#m9829a6d9d2\" y=\"185.63872\"/>\r\n     <use style=\"fill:#1f78b4;stroke:#1f78b4;\" x=\"206.050171\" xlink:href=\"#m9829a6d9d2\" y=\"192.250036\"/>\r\n     <use style=\"fill:#1f78b4;stroke:#1f78b4;\" x=\"211.473278\" xlink:href=\"#m9829a6d9d2\" y=\"198.371472\"/>\r\n     <use style=\"fill:#1f78b4;stroke:#1f78b4;\" x=\"218.45901\" xlink:href=\"#m9829a6d9d2\" y=\"203.826934\"/>\r\n     <use style=\"fill:#1f78b4;stroke:#1f78b4;\" x=\"226.806397\" xlink:href=\"#m9829a6d9d2\" y=\"208.45948\"/>\r\n     <use style=\"fill:#1f78b4;stroke:#1f78b4;\" x=\"236.275311\" xlink:href=\"#m9829a6d9d2\" y=\"212.135844\"/>\r\n     <use style=\"fill:#1f78b4;stroke:#1f78b4;\" x=\"246.59331\" xlink:href=\"#m9829a6d9d2\" y=\"214.75025\"/>\r\n     <use style=\"fill:#1f78b4;stroke:#1f78b4;\" x=\"257.463621\" xlink:href=\"#m9829a6d9d2\" y=\"216.227502\"/>\r\n     <use style=\"fill:#1f78b4;stroke:#1f78b4;\" x=\"268.573465\" xlink:href=\"#m9829a6d9d2\" y=\"216.525093\"/>\r\n     <use style=\"fill:#1f78b4;stroke:#1f78b4;\" x=\"279.603294\" xlink:href=\"#m9829a6d9d2\" y=\"215.634463\"/>\r\n     <use style=\"fill:#1f78b4;stroke:#1f78b4;\" x=\"290.235767\" xlink:href=\"#m9829a6d9d2\" y=\"213.581233\"/>\r\n     <use style=\"fill:#1f78b4;stroke:#1f78b4;\" x=\"300.164981\" xlink:href=\"#m9829a6d9d2\" y=\"210.424481\"/>\r\n     <use style=\"fill:#1f78b4;stroke:#1f78b4;\" x=\"309.105342\" xlink:href=\"#m9829a6d9d2\" y=\"206.255001\"/>\r\n     <use style=\"fill:#1f78b4;stroke:#1f78b4;\" x=\"316.799608\" xlink:href=\"#m9829a6d9d2\" y=\"201.192766\"/>\r\n     <use style=\"fill:#1f78b4;stroke:#1f78b4;\" x=\"323.026471\" xlink:href=\"#m9829a6d9d2\" y=\"195.383381\"/>\r\n     <use style=\"fill:#1f78b4;stroke:#1f78b4;\" x=\"327.606756\" xlink:href=\"#m9829a6d9d2\" y=\"188.994001\"/>\r\n     <use style=\"fill:#1f78b4;stroke:#1f78b4;\" x=\"330.408728\" xlink:href=\"#m9829a6d9d2\" y=\"182.208401\"/>\r\n    </g>\r\n   </g>\r\n  </g>\r\n </g>\r\n <defs>\r\n  <clipPath id=\"pff291ab076\">\r\n   <rect height=\"98.836364\" width=\"152.181818\" x=\"7.2\" y=\"7.2\"/>\r\n  </clipPath>\r\n  <clipPath id=\"p90033022dd\">\r\n   <rect height=\"98.836364\" width=\"152.181818\" x=\"189.818182\" y=\"125.803636\"/>\r\n  </clipPath>\r\n </defs>\r\n</svg>\r\n",
      "image/png": "[encoded data removed]"
     },
     "metadata": {}
    }
   ],
   "source": [
    "getCost(\"large-164\")"
   ]
  },
  {
   "cell_type": "code",
   "execution_count": 20,
   "metadata": {},
   "outputs": [],
   "source": [
    "import json"
   ]
  },
  {
   "cell_type": "markdown",
   "metadata": {},
   "source": [
    "## get online ranking"
   ]
  },
  {
   "cell_type": "code",
   "execution_count": 21,
   "metadata": {},
   "outputs": [],
   "source": [
    "data = None\n",
    "with open(\"rank.json\",\"r\") as f:\n",
    "    data = json.load(f)"
   ]
  },
  {
   "cell_type": "code",
   "execution_count": 22,
   "metadata": {},
   "outputs": [],
   "source": [
    "for v in data.values():\n",
    "    v.sort(key = lambda x: x[1])"
   ]
  },
  {
   "cell_type": "code",
   "execution_count": 23,
   "metadata": {},
   "outputs": [],
   "source": [
    "def getRank(value):\n",
    "    rank = 1\n",
    "    for v in value:\n",
    "        if v[0] == 'Salieri':\n",
    "            return rank\n",
    "        rank += 1\n",
    "    return -1"
   ]
  },
  {
   "cell_type": "code",
   "execution_count": 24,
   "metadata": {},
   "outputs": [],
   "source": [
    "rankStat = dict()\n",
    "for k, v in data.items():\n",
    "    rank = getRank(v)\n",
    "    if rank in rankStat:\n",
    "        rankStat[rank].append(k)\n",
    "    else:\n",
    "        rankStat[rank] = [k]"
   ]
  },
  {
   "cell_type": "code",
   "execution_count": 36,
   "metadata": {},
   "outputs": [],
   "source": [
    "def printStat(stat):\n",
    "    keys = sorted(stat.keys(), reverse = True)\n",
    "    for key in keys:\n",
    "        print(\"%d: \\n %s\\n\" % (key, str(stat[key])))\n",
    "\n"
   ]
  },
  {
   "cell_type": "code",
   "execution_count": 37,
   "metadata": {},
   "outputs": [
    {
     "output_type": "stream",
     "name": "stdout",
     "text": "53: \n ['small-254']\n\n50: \n ['large-107', 'large-111', 'large-115', 'large-123', 'large-2', 'large-229', 'large-249', 'large-280', 'large-29', 'large-292', 'large-296', 'large-298', 'large-303', 'large-62', 'large-69', 'large-71', 'large-74', 'medium-107', 'medium-111', 'medium-123', 'medium-125', 'medium-175', 'medium-2', 'medium-229', 'medium-257', 'medium-280', 'medium-281', 'medium-292', 'medium-296', 'medium-298', 'medium-303', 'medium-62', 'medium-69', 'medium-74', 'medium-96', 'medium-97', 'small-107', 'small-115', 'small-123', 'small-148', 'small-175', 'small-2', 'small-221', 'small-229', 'small-243', 'small-25', 'small-257', 'small-262', 'small-268', 'small-283', 'small-29', 'small-292', 'small-303', 'small-32', 'small-36', 'small-62', 'small-69', 'small-74', 'small-93', 'small-96']\n\n49: \n ['large-125', 'large-148', 'large-170', 'large-175', 'large-248', 'large-32', 'medium-145', 'medium-245', 'medium-248', 'medium-283', 'medium-33', 'medium-36', 'medium-90', 'small-12', 'small-125', 'small-140', 'small-245', 'small-248', 'small-249', 'small-296', 'small-90']\n\n48: \n ['large-140', 'large-223', 'large-90', 'medium-14', 'medium-140', 'medium-164', 'medium-258', 'medium-268', 'medium-60', 'small-164', 'small-203', 'small-57', 'small-59']\n\n47: \n ['large-138', 'large-149', 'large-165', 'large-179', 'large-189', 'large-197', 'large-240', 'large-245', 'large-257', 'large-259', 'large-289', 'large-54', 'large-68', 'large-9', 'medium-138', 'medium-144', 'medium-149', 'medium-165', 'medium-189', 'medium-197', 'medium-203', 'medium-221', 'medium-240', 'medium-259', 'medium-289', 'medium-32', 'medium-54', 'medium-73', 'medium-9', 'small-110', 'small-13', 'small-138', 'small-158', 'small-159', 'small-165', 'small-172', 'small-189', 'small-197', 'small-240', 'small-252', 'small-259', 'small-281', 'small-289', 'small-54', 'small-9']\n\n46: \n ['large-110', 'large-142', 'large-76', 'medium-110', 'medium-276', 'medium-277', 'medium-53', 'medium-76', 'small-208', 'small-277', 'small-76']\n\n45: \n ['large-102', 'large-277', 'medium-102', 'medium-159', 'medium-204', 'medium-243', 'small-53']\n\n44: \n ['medium-282', 'medium-94', 'small-102', 'small-132', 'small-22', 'small-241', 'small-276', 'small-5', 'small-73', 'small-86']\n\n43: \n ['large-276', 'medium-13', 'medium-132', 'medium-142', 'small-106']\n\n42: \n ['large-132', 'small-120', 'small-19']\n\n41: \n ['large-164', 'large-19', 'large-94', 'small-37', 'small-60']\n\n40: \n ['small-247']\n\n39: \n ['large-208', 'medium-208', 'medium-228', 'small-100', 'small-157', 'small-258']\n\n38: \n ['large-50', 'small-14', 'small-184']\n\n37: \n ['medium-109', 'small-109', 'small-111', 'small-211']\n\n36: \n ['large-109', 'large-14', 'large-159', 'small-6']\n\n35: \n ['large-281', 'small-180', 'small-219', 'small-26']\n\n34: \n ['medium-224', 'medium-59', 'medium-79', 'small-101', 'small-286']\n\n33: \n ['large-144', 'large-184', 'large-204', 'medium-115', 'small-135', 'small-154', 'small-220', 'small-244', 'small-273', 'small-44', 'small-52', 'small-79', 'small-91']\n\n32: \n ['medium-210', 'medium-249', 'medium-50', 'small-173', 'small-204', 'small-223', 'small-51', 'small-87']\n\n31: \n ['large-349', 'medium-152', 'medium-157', 'medium-20', 'medium-241', 'medium-244', 'medium-25', 'medium-71', 'medium-98', 'small-112', 'small-156', 'small-170', 'small-209', 'small-284']\n\n30: \n ['large-173', 'large-205', 'large-213', 'large-235', 'large-268', 'medium-103', 'medium-12', 'medium-284', 'medium-3', 'medium-52', 'medium-93', 'small-116', 'small-127', 'small-236', 'small-24', 'small-256', 'small-290', 'small-3', 'small-33', 'small-65', 'small-99']\n\n29: \n ['medium-213', 'medium-219', 'medium-272', 'medium-46', 'small-153', 'small-183', 'small-188', 'small-192', 'small-193', 'small-300', 'small-98']\n\n28: \n ['large-100', 'large-236', 'large-290', 'large-3', 'large-52', 'large-87', 'medium-223', 'medium-235', 'medium-68', 'small-10', 'small-105', 'small-145', 'small-152', 'small-162', 'small-216', 'small-224', 'small-225', 'small-255', 'small-267', 'small-282', 'small-31', 'small-46', 'small-68', 'small-85']\n\n27: \n ['large-158', 'large-210', 'large-221', 'large-346', 'medium-153', 'medium-57', 'medium-85', 'medium-87', 'small-149', 'small-171', 'small-195', 'small-228', 'small-230', 'small-269', 'small-299', 'small-34']\n\n26: \n ['large-150', 'large-181', 'large-196', 'large-203', 'large-272', 'large-33', 'medium-108', 'medium-134', 'medium-148', 'medium-190', 'medium-227', 'medium-260', 'medium-44', 'medium-58', 'medium-70', 'medium-91', 'small-108', 'small-124', 'small-190', 'small-200', 'small-21', 'small-222', 'small-235', 'small-279', 'small-294', 'small-58', 'small-94', 'small-97']\n\n25: \n ['large-152', 'large-193', 'large-262', 'large-273', 'large-300', 'medium-173', 'medium-193', 'medium-5', 'small-201', 'small-246', 'small-47', 'small-67', 'small-77']\n\n24: \n ['large-116', 'large-157', 'large-216', 'large-224', 'large-269', 'large-282', 'large-351', 'large-36', 'large-88', 'medium-19', 'medium-196', 'medium-273', 'medium-302', 'medium-6', 'medium-8', 'medium-88', 'small-160', 'small-174', 'small-181', 'small-187', 'small-227', 'small-265', 'small-285', 'small-302', 'small-35', 'small-71']\n\n23: \n ['large-105', 'large-20', 'large-355', 'large-57', 'medium-105', 'medium-184', 'medium-207', 'medium-216', 'medium-24', 'medium-263', 'medium-84', 'small-139', 'small-142', 'small-147', 'small-182', 'small-20', 'small-206', 'small-215', 'small-238', 'small-272', 'small-295', 'small-298', 'small-56', 'small-61', 'small-70']\n\n22: \n ['large-108', 'large-113', 'large-131', 'large-202', 'large-207', 'large-260', 'large-265', 'large-366', 'large-44', 'large-5', 'large-85', 'large-98', 'medium-10', 'medium-128', 'medium-131', 'medium-205', 'medium-22', 'medium-23', 'medium-265', 'medium-269', 'medium-300', 'small-122', 'small-128', 'small-151', 'small-163', 'small-198', 'small-250', 'small-275', 'small-66', 'small-84', 'small-92']\n\n21: \n ['large-209', 'large-219', 'large-246', 'large-354', 'large-37', 'large-46', 'large-81', 'large-91', 'medium-151', 'medium-167', 'medium-250', 'medium-26', 'medium-29', 'medium-290', 'medium-293', 'medium-61', 'medium-86', 'medium-92', 'small-103', 'small-137', 'small-167', 'small-218', 'small-23', 'small-232', 'small-263', 'small-271', 'small-28', 'small-293', 'small-80']\n\n20: \n ['large-103', 'large-128', 'large-186', 'large-194', 'large-263', 'large-267', 'large-30', 'large-367', 'medium-127', 'medium-198', 'medium-236', 'medium-252', 'small-131', 'small-143', 'small-169', 'small-185', 'small-196', 'small-212', 'small-270', 'small-64', 'small-8']\n\n19: \n ['large-10', 'large-114', 'large-127', 'large-190', 'large-220', 'large-284', 'large-347', 'medium-113', 'medium-120', 'medium-17', 'medium-171', 'medium-209', 'medium-262', 'medium-40', 'medium-47', 'small-134', 'small-48', 'small-82', 'small-88']\n\n18: \n ['large-117', 'large-151', 'large-178', 'large-192', 'large-222', 'large-227', 'large-26', 'large-261', 'large-342', 'large-357', 'large-369', 'large-83', 'medium-166', 'medium-170', 'medium-180', 'medium-194', 'medium-200', 'medium-30', 'medium-41', 'small-113', 'small-121', 'small-191', 'small-207', 'small-251', 'small-280', 'small-288', 'small-291', 'small-30', 'small-40', 'small-45', 'small-81', 'small-83']\n\n17: \n ['large-129', 'large-167', 'large-212', 'large-252', 'large-293', 'large-302', 'large-329', 'large-350', 'large-363', 'large-368', 'large-4', 'large-73', 'large-92', 'medium-112', 'medium-179', 'medium-192', 'medium-225', 'medium-231', 'medium-242', 'medium-267', 'medium-297', 'small-1', 'small-11', 'small-114', 'small-130', 'small-146', 'small-155', 'small-161', 'small-194', 'small-234', 'small-297', 'small-38', 'small-7', 'small-95']\n\n16: \n ['large-112', 'large-119', 'large-134', 'large-171', 'large-250', 'large-338', 'large-356', 'large-61', 'large-70', 'large-78', 'large-97', 'medium-176', 'medium-199', 'small-104', 'small-168', 'small-210', 'small-214', 'small-226', 'small-231', 'small-237', 'small-264', 'small-27', 'small-39', 'small-49']\n\n15: \n ['large-13', 'large-154', 'large-16', 'large-172', 'large-199', 'large-206', 'large-335', 'large-63', 'medium-106', 'medium-114', 'medium-129', 'medium-201', 'medium-239', 'medium-56', 'medium-66', 'small-141', 'small-179', 'small-18', 'small-242', 'small-261', 'small-50', 'small-55', 'small-75']\n\n14: \n ['large-106', 'large-217', 'large-299', 'large-343', 'large-391', 'large-59', 'large-84', 'medium-116', 'medium-122', 'medium-146', 'medium-186', 'medium-206', 'medium-234', 'medium-27', 'medium-286', 'medium-63', 'small-118', 'small-119', 'small-129', 'small-177', 'small-186', 'small-202', 'small-42', 'small-78']\n\n13: \n ['large-133', 'large-162', 'large-320', 'large-321', 'large-353', 'large-370', 'large-382', 'large-393', 'large-7', 'large-72', 'medium-101', 'medium-220', 'medium-256', 'medium-291', 'medium-7', 'medium-81', 'small-199', 'small-213', 'small-239', 'small-4']\n\n12: \n ['large-101', 'large-156', 'large-166', 'large-191', 'large-198', 'large-225', 'large-228', 'large-239', 'large-24', 'large-247', 'large-25', 'large-270', 'large-274', 'large-283', 'large-308', 'large-311', 'large-331', 'large-34', 'large-340', 'large-344', 'large-380', 'large-386', 'large-387', 'large-40', 'large-60', 'medium-147', 'medium-156', 'medium-21', 'medium-247', 'medium-251', 'medium-261', 'medium-65', 'medium-80', 'small-176', 'small-217', 'small-301', 'small-72']\n\n11: \n ['large-143', 'large-177', 'large-22', 'large-253', 'large-309', 'large-317', 'large-327', 'large-337', 'large-348', 'large-359', 'large-389', 'large-395', 'large-47', 'large-55', 'large-65', 'large-75', 'large-86', 'large-99', 'medium-135', 'medium-161', 'medium-169', 'medium-172', 'medium-191', 'medium-246', 'medium-301', 'medium-51', 'small-274', 'small-41', 'small-63']\n\n10: \n ['large-145', 'large-153', 'large-163', 'large-23', 'large-271', 'large-28', 'large-286', 'large-315', 'large-377', 'large-379', 'large-397', 'large-41', 'large-56', 'medium-118', 'medium-133', 'medium-136', 'medium-150', 'medium-160', 'medium-168', 'medium-182', 'medium-185', 'medium-233', 'medium-271', 'medium-83', 'small-136', 'small-16', 'small-166', 'small-233', 'small-266', 'small-278', 'small-89']\n\n9: \n ['large-11', 'large-136', 'large-168', 'large-244', 'large-251', 'large-307', 'large-362', 'large-383', 'large-399', 'large-51', 'large-6', 'large-66', 'medium-100', 'medium-16', 'medium-162', 'medium-181', 'medium-211', 'medium-214', 'medium-217', 'medium-226', 'medium-270', 'medium-299', 'medium-34', 'medium-43', 'small-133', 'small-144', 'small-17', 'small-205', 'small-253']\n\n8: \n ['large-120', 'large-126', 'large-183', 'large-185', 'large-187', 'large-188', 'large-215', 'large-233', 'large-234', 'large-238', 'large-266', 'large-295', 'large-306', 'large-322', 'large-332', 'large-352', 'large-364', 'large-365', 'large-375', 'large-388', 'large-48', 'medium-1', 'medium-104', 'medium-121', 'medium-126', 'medium-139', 'medium-141', 'medium-163', 'medium-178', 'medium-187', 'medium-48', 'medium-72', 'small-117', 'small-15', 'small-150']\n\n7: \n ['large-118', 'large-12', 'large-122', 'large-15', 'large-155', 'large-180', 'large-182', 'large-230', 'large-27', 'large-275', 'large-279', 'large-31', 'large-310', 'large-330', 'large-341', 'large-345', 'large-358', 'large-371', 'large-374', 'large-376', 'large-378', 'large-381', 'large-390', 'large-392', 'large-400', 'large-45', 'large-49', 'large-89', 'large-93', 'large-95', 'medium-143', 'medium-158', 'medium-195', 'medium-202', 'medium-253', 'medium-255', 'medium-28', 'medium-37', 'medium-78', 'medium-99', 'small-126', 'small-260', 'small-43']\n\n6: \n ['large-104', 'large-124', 'large-130', 'large-139', 'large-17', 'large-18', 'large-201', 'large-21', 'large-218', 'large-241', 'large-242', 'large-278', 'large-288', 'large-294', 'large-316', 'large-319', 'large-325', 'large-336', 'large-38', 'large-384', 'large-396', 'large-42', 'medium-137', 'medium-15', 'medium-154', 'medium-177', 'medium-212', 'medium-215', 'medium-230', 'medium-232', 'medium-237', 'medium-278', 'medium-285', 'medium-295', 'medium-35', 'medium-39', 'medium-45', 'medium-49', 'medium-67', 'medium-89', 'small-178', 'small-287']\n\n5: \n ['large-1', 'large-135', 'large-147', 'large-160', 'large-226', 'large-231', 'large-232', 'large-264', 'large-291', 'large-312', 'large-313', 'large-323', 'large-339', 'large-360', 'large-361', 'large-39', 'large-43', 'large-67', 'large-96', 'medium-11', 'medium-119', 'medium-124', 'medium-174', 'medium-188', 'medium-222', 'medium-264', 'medium-266', 'medium-287', 'medium-288', 'medium-4', 'medium-75', 'medium-77', 'medium-82']\n\n4: \n ['large-141', 'large-161', 'large-174', 'large-195', 'large-214', 'large-243', 'large-255', 'large-256', 'large-258', 'large-297', 'large-304', 'large-305', 'large-314', 'large-326', 'large-328', 'large-35', 'large-8', 'large-80', 'medium-117', 'medium-130', 'medium-155', 'medium-18', 'medium-218', 'medium-254', 'medium-275', 'medium-279', 'medium-38', 'medium-64']\n\n3: \n ['large-137', 'large-146', 'large-169', 'large-200', 'large-237', 'large-254', 'large-285', 'large-318', 'large-324', 'large-333', 'large-334', 'large-373', 'large-53', 'large-64', 'large-82', 'medium-183', 'medium-274', 'medium-294', 'medium-31', 'medium-42', 'medium-55', 'medium-95']\n\n2: \n ['large-121', 'large-176', 'large-211', 'large-287', 'large-301', 'large-372', 'large-385', 'large-398', 'large-58', 'large-77', 'large-79', 'medium-238']\n\n1: \n ['large-394']\n\n"
    }
   ],
   "source": [
    "printStat(rankStat)"
   ]
  },
  {
   "cell_type": "code",
   "execution_count": 40,
   "metadata": {},
   "outputs": [],
   "source": [
    "def getFirst(fraction: float):\n",
    "    data = None\n",
    "    with open(\"rank.json\",\"r\") as f:\n",
    "        data = json.load(f)\n",
    "    for v in data.values():\n",
    "        v.sort(key = lambda x: x[1])\n",
    "    def getRank(value):\n",
    "        rank = 1\n",
    "        for v in value:\n",
    "            if v[0] == 'Salieri':\n",
    "                return rank\n",
    "            rank += 1\n",
    "        return -1\n",
    "    stat = dict()\n",
    "    for k, v in data.items():\n",
    "        rank = getRank(v)\n",
    "        if rank in stat:\n",
    "            stat[rank].append(k)\n",
    "        else:\n",
    "            stat[rank] = [k]\n",
    "\n",
    "    keys = sorted(stat.keys(), reverse = True)\n",
    "    values = []\n",
    "    for key in keys:\n",
    "        values.extend(stat[key])\n",
    "    until = len(values)\n",
    "    until = min(until - 1, round(until / 3))\n",
    "    return values[:until]"
   ]
  },
  {
   "cell_type": "code",
   "execution_count": 41,
   "metadata": {},
   "outputs": [
    {
     "output_type": "execute_result",
     "data": {
      "text/plain": "['small-254',\n 'large-107',\n 'large-111',\n 'large-115',\n 'large-123',\n 'large-2',\n 'large-229',\n 'large-249',\n 'large-280',\n 'large-29',\n 'large-292',\n 'large-296',\n 'large-298',\n 'large-303',\n 'large-62',\n 'large-69',\n 'large-71',\n 'large-74',\n 'medium-107',\n 'medium-111',\n 'medium-123',\n 'medium-125',\n 'medium-175',\n 'medium-2',\n 'medium-229',\n 'medium-257',\n 'medium-280',\n 'medium-281',\n 'medium-292',\n 'medium-296',\n 'medium-298',\n 'medium-303',\n 'medium-62',\n 'medium-69',\n 'medium-74',\n 'medium-96',\n 'medium-97',\n 'small-107',\n 'small-115',\n 'small-123',\n 'small-148',\n 'small-175',\n 'small-2',\n 'small-221',\n 'small-229',\n 'small-243',\n 'small-25',\n 'small-257',\n 'small-262',\n 'small-268',\n 'small-283',\n 'small-29',\n 'small-292',\n 'small-303',\n 'small-32',\n 'small-36',\n 'small-62',\n 'small-69',\n 'small-74',\n 'small-93',\n 'small-96',\n 'large-125',\n 'large-148',\n 'large-170',\n 'large-175',\n 'large-248',\n 'large-32',\n 'medium-145',\n 'medium-245',\n 'medium-248',\n 'medium-283',\n 'medium-33',\n 'medium-36',\n 'medium-90',\n 'small-12',\n 'small-125',\n 'small-140',\n 'small-245',\n 'small-248',\n 'small-249',\n 'small-296',\n 'small-90',\n 'large-140',\n 'large-223',\n 'large-90',\n 'medium-14',\n 'medium-140',\n 'medium-164',\n 'medium-258',\n 'medium-268',\n 'medium-60',\n 'small-164',\n 'small-203',\n 'small-57',\n 'small-59',\n 'large-138',\n 'large-149',\n 'large-165',\n 'large-179',\n 'large-189',\n 'large-197',\n 'large-240',\n 'large-245',\n 'large-257',\n 'large-259',\n 'large-289',\n 'large-54',\n 'large-68',\n 'large-9',\n 'medium-138',\n 'medium-144',\n 'medium-149',\n 'medium-165',\n 'medium-189',\n 'medium-197',\n 'medium-203',\n 'medium-221',\n 'medium-240',\n 'medium-259',\n 'medium-289',\n 'medium-32',\n 'medium-54',\n 'medium-73',\n 'medium-9',\n 'small-110',\n 'small-13',\n 'small-138',\n 'small-158',\n 'small-159',\n 'small-165',\n 'small-172',\n 'small-189',\n 'small-197',\n 'small-240',\n 'small-252',\n 'small-259',\n 'small-281',\n 'small-289',\n 'small-54',\n 'small-9',\n 'large-110',\n 'large-142',\n 'large-76',\n 'medium-110',\n 'medium-276',\n 'medium-277',\n 'medium-53',\n 'medium-76',\n 'small-208',\n 'small-277',\n 'small-76',\n 'large-102',\n 'large-277',\n 'medium-102',\n 'medium-159',\n 'medium-204',\n 'medium-243',\n 'small-53',\n 'medium-282',\n 'medium-94',\n 'small-102',\n 'small-132',\n 'small-22',\n 'small-241',\n 'small-276',\n 'small-5',\n 'small-73',\n 'small-86',\n 'large-276',\n 'medium-13',\n 'medium-132',\n 'medium-142',\n 'small-106',\n 'large-132',\n 'small-120',\n 'small-19',\n 'large-164',\n 'large-19',\n 'large-94',\n 'small-37',\n 'small-60',\n 'small-247',\n 'large-208',\n 'medium-208',\n 'medium-228',\n 'small-100',\n 'small-157',\n 'small-258',\n 'large-50',\n 'small-14',\n 'small-184',\n 'medium-109',\n 'small-109',\n 'small-111',\n 'small-211',\n 'large-109',\n 'large-14',\n 'large-159',\n 'small-6',\n 'large-281',\n 'small-180',\n 'small-219',\n 'small-26',\n 'medium-224',\n 'medium-59',\n 'medium-79',\n 'small-101',\n 'small-286',\n 'large-144',\n 'large-184',\n 'large-204',\n 'medium-115',\n 'small-135',\n 'small-154',\n 'small-220',\n 'small-244',\n 'small-273',\n 'small-44',\n 'small-52',\n 'small-79',\n 'small-91',\n 'medium-210',\n 'medium-249',\n 'medium-50',\n 'small-173',\n 'small-204',\n 'small-223',\n 'small-51',\n 'small-87',\n 'large-349',\n 'medium-152',\n 'medium-157',\n 'medium-20',\n 'medium-241',\n 'medium-244',\n 'medium-25',\n 'medium-71',\n 'medium-98',\n 'small-112',\n 'small-156',\n 'small-170',\n 'small-209',\n 'small-284',\n 'large-173',\n 'large-205',\n 'large-213',\n 'large-235',\n 'large-268',\n 'medium-103',\n 'medium-12',\n 'medium-284',\n 'medium-3',\n 'medium-52',\n 'medium-93',\n 'small-116',\n 'small-127',\n 'small-236',\n 'small-24',\n 'small-256',\n 'small-290',\n 'small-3',\n 'small-33',\n 'small-65',\n 'small-99',\n 'medium-213',\n 'medium-219',\n 'medium-272',\n 'medium-46',\n 'small-153',\n 'small-183',\n 'small-188',\n 'small-192',\n 'small-193',\n 'small-300',\n 'small-98',\n 'large-100',\n 'large-236',\n 'large-290',\n 'large-3',\n 'large-52',\n 'large-87',\n 'medium-223',\n 'medium-235',\n 'medium-68',\n 'small-10',\n 'small-105',\n 'small-145',\n 'small-152',\n 'small-162',\n 'small-216',\n 'small-224',\n 'small-225',\n 'small-255',\n 'small-267',\n 'small-282',\n 'small-31',\n 'small-46',\n 'small-68',\n 'small-85',\n 'large-158',\n 'large-210',\n 'large-221',\n 'large-346',\n 'medium-153',\n 'medium-57',\n 'medium-85',\n 'medium-87',\n 'small-149',\n 'small-171',\n 'small-195',\n 'small-228',\n 'small-230',\n 'small-269',\n 'small-299',\n 'small-34',\n 'large-150',\n 'large-181',\n 'large-196',\n 'large-203',\n 'large-272',\n 'large-33',\n 'medium-108',\n 'medium-134',\n 'medium-148',\n 'medium-190',\n 'medium-227',\n 'medium-260',\n 'medium-44',\n 'medium-58',\n 'medium-70',\n 'medium-91',\n 'small-108',\n 'small-124',\n 'small-190',\n 'small-200']"
     },
     "metadata": {},
     "execution_count": 41
    }
   ],
   "source": [
    "getFirst(0.3)"
   ]
  },
  {
   "cell_type": "code",
   "execution_count": null,
   "metadata": {},
   "outputs": [],
   "source": []
  }
 ],
 "metadata": {
  "language_info": {
   "name": "python",
   "codemirror_mode": {
    "name": "ipython",
    "version": 3
   },
   "version": "3.7.4-final"
  },
  "orig_nbformat": 2,
  "file_extension": ".py",
  "mimetype": "text/x-python",
  "name": "python",
  "npconvert_exporter": "python",
  "pygments_lexer": "ipython3",
  "version": 3,
  "kernelspec": {
   "name": "python37464bitbasecondac3a000222dd44143bef7e05ccc0520a7",
   "display_name": "Python 3.7.4 64-bit ('base': conda)"
  }
 },
 "nbformat": 4,
 "nbformat_minor": 2
}